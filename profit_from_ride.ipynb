{
 "cells": [
  {
   "cell_type": "code",
   "execution_count": 1,
   "id": "5f5a4cef",
   "metadata": {},
   "outputs": [],
   "source": [
    "def profit(ride):\n",
    "    '''Calculate the net profit from a single ride, which is a row of the dataset'''\n",
    "    initial_charge = 2.5\n",
    "    # $2.5 per mile\n",
    "    mile_fare = ride['drivingDistance'] * 2.5\n",
    "    # $0.5 per minute (drivingTime in seconds)\n",
    "    minute_fare = ride['drivingTime'] / 60 * 0.5\n",
    "    # rush hour or night surcharge\n",
    "    weekend = ride['day'] == 'Saturday' or ride['day'] == 'Sunday'\n",
    "    hour = ride['hour']\n",
    "    surcharge = 0.0\n",
    "    if (not weekend and hour >= 16 and hour < 20):\n",
    "        surcharge = 1.0\n",
    "    if (hour >= 20 and hour <= 6):\n",
    "        surcharge = 0.5\n",
    "    return initial_charge + max([mile_fare, minute_fare]) + surcharge"
   ]
  },
  {
   "cell_type": "code",
   "execution_count": 2,
   "id": "c5143921",
   "metadata": {},
   "outputs": [
    {
     "data": {
      "text/plain": [
       "7.5"
      ]
     },
     "execution_count": 2,
     "metadata": {},
     "output_type": "execute_result"
    }
   ],
   "source": [
    "# Test the profit() function\n",
    "ride = {'drivingDistance':1, 'drivingTime':600, 'day':'Sunday', 'hour':18}\n",
    "profit(ride)"
   ]
  }
 ],
 "metadata": {
  "kernelspec": {
   "display_name": "Python 3",
   "language": "python",
   "name": "python3"
  },
  "language_info": {
   "codemirror_mode": {
    "name": "ipython",
    "version": 3
   },
   "file_extension": ".py",
   "mimetype": "text/x-python",
   "name": "python",
   "nbconvert_exporter": "python",
   "pygments_lexer": "ipython3",
   "version": "3.8.8"
  }
 },
 "nbformat": 4,
 "nbformat_minor": 5
}

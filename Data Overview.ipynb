{
 "cells": [
  {
   "cell_type": "markdown",
   "id": "56731134",
   "metadata": {},
   "source": [
    "# Data Exploration and Visualization "
   ]
  },
  {
   "cell_type": "code",
   "execution_count": 1,
   "id": "9f918566",
   "metadata": {
    "ExecuteTime": {
     "end_time": "2021-10-15T17:35:17.179355Z",
     "start_time": "2021-10-15T17:35:16.330432Z"
    },
    "init_cell": true
   },
   "outputs": [],
   "source": [
    "import pandas as pd\n",
    "import matplotlib.pyplot as plt"
   ]
  },
  {
   "cell_type": "code",
   "execution_count": null,
   "id": "9e280146",
   "metadata": {
    "ExecuteTime": {
     "start_time": "2021-10-15T17:35:16.335Z"
    },
    "init_cell": true
   },
   "outputs": [],
   "source": [
    "# read data\n",
    "df = pd.read_csv(r'./data/NY_Taxi_Rich.csv')"
   ]
  },
  {
   "cell_type": "code",
   "execution_count": null,
   "id": "66eb762d",
   "metadata": {
    "ExecuteTime": {
     "start_time": "2021-10-15T17:35:16.338Z"
    }
   },
   "outputs": [],
   "source": [
    "pd.set_option('max_columns', None)\n",
    "df.head()\n",
    "pd.set_option('max_columns', 20)"
   ]
  },
  {
   "cell_type": "markdown",
   "id": "86bd7aec",
   "metadata": {},
   "source": [
    "### Visualizing data on a NYC Map"
   ]
  },
  {
   "cell_type": "code",
   "execution_count": null,
   "id": "fd0e48ea",
   "metadata": {
    "ExecuteTime": {
     "start_time": "2021-10-15T17:35:16.341Z"
    }
   },
   "outputs": [],
   "source": [
    "import pandas as pd\n",
    "from shapely.geometry import Point\n",
    "import geopandas as gpd\n",
    "from geopandas import GeoDataFrame\n",
    "\n",
    "\n",
    "import pandas as pd\n",
    "from shapely.geometry import Point\n",
    "import geopandas as gpd\n",
    "from geopandas import GeoDataFrame\n",
    "\n",
    "\n",
    "def plot_on_ny_map(df, points=10, figsize=(12,12), save=False, title='NYC data', fname='plot.png', cols=['startLongitude', 'startLatitude'], colored=False, color_col=None):\n",
    "    data_x = df[cols[0]][:points]\n",
    "    data_y = df[cols[1]][:points]\n",
    "\n",
    "    ny = gpd.read_file(gpd.datasets.get_path('nybb'))\n",
    "    geometry = [Point(x, y) for x, y in zip(data_x, data_y)]\n",
    "    crs = 'EPSG:4326'\n",
    "    \n",
    "    gdf = GeoDataFrame(df[[cols[0], cols[1]]][:points], crs=crs, geometry=geometry)\n",
    "    \n",
    "    fig, ax = plt.subplots(figsize = (12,12))\n",
    "    ax.set_title(title)\n",
    "    ny.to_crs(epsg=4326).plot(ax=ax, color='lightgrey', edgecolor='black')\n",
    "    \n",
    "    if colored:\n",
    "        if color_col is None:\n",
    "            raise Exception(\"color_col arg is missing, but colored is set to True.\")\n",
    "            return\n",
    "        gdf.plot(ax=ax, c=df[color_col])\n",
    "    else:\n",
    "        gdf.plot(ax=ax)\n",
    "    \n",
    "    if save:\n",
    "        plt.savefig(fname)\n",
    "    else:\n",
    "        plt.show()"
   ]
  },
  {
   "cell_type": "code",
   "execution_count": null,
   "id": "41618b0b",
   "metadata": {
    "ExecuteTime": {
     "start_time": "2021-10-15T17:35:16.346Z"
    }
   },
   "outputs": [],
   "source": [
    "plot_on_ny_map(df, points=100)"
   ]
  }
 ],
 "metadata": {
  "celltoolbar": "Initialization Cell",
  "kernelspec": {
   "display_name": "Python 3 (ipykernel)",
   "language": "python",
   "name": "python3"
  },
  "language_info": {
   "codemirror_mode": {
    "name": "ipython",
    "version": 3
   },
   "file_extension": ".py",
   "mimetype": "text/x-python",
   "name": "python",
   "nbconvert_exporter": "python",
   "pygments_lexer": "ipython3",
   "version": "3.9.0"
  }
 },
 "nbformat": 4,
 "nbformat_minor": 5
}

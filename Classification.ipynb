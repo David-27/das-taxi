{
 "cells": [
  {
   "cell_type": "markdown",
   "id": "b99aa9fb",
   "metadata": {},
   "source": [
    "# Treating hotspot detection as a classification problem"
   ]
  },
  {
   "cell_type": "code",
   "execution_count": 1,
   "id": "989383bf",
   "metadata": {
    "ExecuteTime": {
     "end_time": "2021-10-16T08:34:15.811198Z",
     "start_time": "2021-10-16T08:34:15.163497Z"
    },
    "init_cell": true
   },
   "outputs": [],
   "source": [
    "import pandas as pd\n",
    "import matplotlib.pyplot as plt"
   ]
  },
  {
   "cell_type": "code",
   "execution_count": 2,
   "id": "c1f09b97",
   "metadata": {
    "ExecuteTime": {
     "end_time": "2021-10-16T08:34:20.435384Z",
     "start_time": "2021-10-16T08:34:15.811198Z"
    },
    "init_cell": true
   },
   "outputs": [],
   "source": [
    "# read data\n",
    "df = pd.read_csv(r'./data/NY_Taxi_Rich.csv')"
   ]
  },
  {
   "cell_type": "code",
   "execution_count": 3,
   "id": "c354e85c",
   "metadata": {
    "ExecuteTime": {
     "end_time": "2021-10-16T08:34:21.132969Z",
     "start_time": "2021-10-16T08:34:20.437412Z"
    },
    "init_cell": true
   },
   "outputs": [],
   "source": [
    "import pandas as pd\n",
    "from shapely.geometry import Point\n",
    "import geopandas as gpd\n",
    "from geopandas import GeoDataFrame\n",
    "from sklearn.cluster import KMeans\n",
    "\n",
    "\n",
    "def plot_on_ny_map(df, points=10, figsize=(12,12), save=False, title='NYC data', fname='plot.png', cols=['startLongitude', 'startLatitude'], colored=False, color_col=None, size=12):\n",
    "    data_x = df[cols[0]][:points]\n",
    "    data_y = df[cols[1]][:points]\n",
    "\n",
    "    ny = gpd.read_file(gpd.datasets.get_path('nybb'))\n",
    "    geometry = [Point(x, y) for x, y in zip(data_x, data_y)]\n",
    "    crs = 'EPSG:4326'\n",
    "    \n",
    "    gdf = GeoDataFrame(df[[cols[0], cols[1]]][:points], crs=crs, geometry=geometry)\n",
    "    \n",
    "    fig, ax = plt.subplots(figsize = (12,12))\n",
    "    ax.set_title(title)\n",
    "    ny.to_crs(epsg=4326).plot(ax=ax, color='lightgrey', edgecolor='black')\n",
    "    \n",
    "    if colored:\n",
    "        if color_col is None:\n",
    "            raise Exception(\"color_col arg is missing, but colored is set to True.\")\n",
    "            return\n",
    "        gdf.plot(ax=ax, markersize=size, c=df[color_col])\n",
    "    else:\n",
    "        gdf.plot(ax=ax, markersize=size)\n",
    "    \n",
    "    if save:\n",
    "        plt.savefig(fname)\n",
    "    else:\n",
    "        plt.show()\n",
    "\n",
    "def clean_spatial_data(df, cols=['startLatitude', 'startLongitude'], stddevs=3):\n",
    "    for col in cols:\n",
    "        std = df[col].std()\n",
    "        mean = df[col].mean()\n",
    "        lower_boundary = mean - stddevs * std\n",
    "        upper_boundary = mean + stddevs * std\n",
    "        df = df.loc[(df[col] > lower_boundary) & (df[col] < upper_boundary)]\n",
    "    return df\n",
    "\n",
    "def encode_text_fields(df, cols=['season', 'dayName', 'dayPeriod']):\n",
    "    for col in cols:\n",
    "        unique_vals = df[col].unique()\n",
    "        for i in range(len(unique_vals)):\n",
    "            df.loc[df[col] == unique_vals[i], col] = i\n",
    "    return df\n",
    "\n",
    "def label_data(df, n = 120):\n",
    "    X = df[['startLatitude', 'startLongitude']]\n",
    "    kmeans = KMeans(n_clusters = n).fit(X)\n",
    "    labels = pd.DataFrame(kmeans.labels_, columns=['label'])\n",
    "    labels = labels.set_index(df.index)\n",
    "    result = df.join(labels)\n",
    "    return result\n",
    "\n",
    "def get_training_and_test_data(labeled_df, class_cols=['year', 'month', 'day', 'hour', 'minute', 'second', 'season', 'dayName', 'dayPeriod', 'temperature', 'rain', 'snow'], label_col='label', split = 0.8, random = True):\n",
    "    rows, _ = labeled_df.shape\n",
    "    training_rows = int(rows * 0.8)\n",
    "    \n",
    "    if random:\n",
    "        labeled_df = labeled_df.sample(frac = 1.0)\n",
    "    \n",
    "    training_data = labeled_df[:training_rows]\n",
    "    test_data = labeled_df[training_rows:rows]\n",
    "    \n",
    "    return training_data[class_cols], training_data['label'], test_data[class_cols], test_data['label']"
   ]
  },
  {
   "cell_type": "markdown",
   "id": "eabc76d3",
   "metadata": {},
   "source": [
    "Basic model idea: The columns **year**, **month**, **day**, **hour**, **minute**, **second**, **season (encoded)**, **dayName (encoded)**, **dayPeriod (encoded)**, **temperature**, **rain** and **snow**, determine the class i. e. the location of the trip. Since the classifier will try to predict a probability for each class at the same time it outputs the probability for any location directly. A probability abova a certain threshold can be considered a hotspot. "
   ]
  },
  {
   "cell_type": "markdown",
   "id": "6f1cac13",
   "metadata": {},
   "source": [
    "Further Data insights below, show there are no invalid values in the relevant columns. There is therfore no need to preprocess the data any further at the moment."
   ]
  },
  {
   "cell_type": "code",
   "execution_count": 4,
   "id": "a1c82f2a",
   "metadata": {
    "ExecuteTime": {
     "end_time": "2021-10-16T08:34:21.233192Z",
     "start_time": "2021-10-16T08:34:21.133124Z"
    }
   },
   "outputs": [
    {
     "name": "stdout",
     "output_type": "stream",
     "text": [
      "Year: \t [2016]\n",
      "Month: \t [1 2 3 4 5 6]\n",
      "Day: \t [ 1  2  3  4  5  6  7  8  9 10 11 12 13 14 15 16 17 18 19 20 21 22 23 24\n",
      " 25 26 27 28 29 30 31]\n",
      "Hour: \t [ 0  1  2  3  4  5  6  7  8  9 10 11 12 13 14 15 16 17 18 19 20 21 22 23]\n",
      "Rain: \t [1 0]\n",
      "Snow: \t [0 1]\n"
     ]
    }
   ],
   "source": [
    "print('Year: \\t', df['year'].unique())\n",
    "value = df['month'].unique()\n",
    "value.sort()\n",
    "print('Month: \\t', value)\n",
    "value = df['day'].unique()\n",
    "value.sort()\n",
    "print('Day: \\t', value)\n",
    "value = df['hour'].unique()\n",
    "value.sort()\n",
    "print('Hour: \\t', value)\n",
    "print('Rain: \\t', df['rain'].unique())\n",
    "print('Snow: \\t', df['snow'].unique())"
   ]
  },
  {
   "cell_type": "code",
   "execution_count": 5,
   "id": "86e392b4",
   "metadata": {
    "ExecuteTime": {
     "end_time": "2021-10-16T08:34:23.808827Z",
     "start_time": "2021-10-16T08:34:21.233192Z"
    }
   },
   "outputs": [],
   "source": [
    "# get data for a slice of df\n",
    "\n",
    "df3 = df[:20000]\n",
    "df3.head()\n",
    "df3 = label_data(df3)\n",
    "df3 = encode_text_fields(df3)\n",
    "X_tr, y_tr, X_test, y_test = get_training_and_test_data(df3)"
   ]
  },
  {
   "cell_type": "code",
   "execution_count": 6,
   "id": "730c90ba",
   "metadata": {
    "ExecuteTime": {
     "end_time": "2021-10-16T08:35:56.329466Z",
     "start_time": "2021-10-16T08:34:23.809507Z"
    }
   },
   "outputs": [],
   "source": [
    "# set up SVM as classfier\n",
    "\n",
    "from sklearn import svm\n",
    "\n",
    "clf = svm.SVC(kernel='poly')\n",
    "clf.decision_function_shape = \"ovr\"\n",
    "clf.probability = True\n",
    "\n",
    "clf.fit(X_tr, y_tr)\n",
    "predictions = clf.predict(X_test)\n",
    "probabilities = clf.predict_proba(X_test)"
   ]
  },
  {
   "cell_type": "code",
   "execution_count": 7,
   "id": "8807ba9a",
   "metadata": {
    "ExecuteTime": {
     "end_time": "2021-10-16T08:35:56.344768Z",
     "start_time": "2021-10-16T08:35:56.330806Z"
    }
   },
   "outputs": [
    {
     "data": {
      "text/plain": [
       "array([0.00759351, 0.01939613, 0.00852676, 0.01074235, 0.01104069,\n",
       "       0.00369098, 0.01585716, 0.01315833, 0.00107017, 0.02634778,\n",
       "       0.01460706, 0.00202821, 0.00486618, 0.00872068, 0.00225122,\n",
       "       0.01505428, 0.01207196, 0.01656893, 0.01232817, 0.02304663,\n",
       "       0.01246093, 0.00040374, 0.00023088, 0.01020624, 0.01473615,\n",
       "       0.00148761, 0.0087028 , 0.01231541, 0.00221089, 0.00119856,\n",
       "       0.00046724, 0.001327  , 0.01256582, 0.01914482, 0.00159776,\n",
       "       0.01375627, 0.01228814, 0.01320093, 0.00168494, 0.00927564,\n",
       "       0.0006076 , 0.00011573, 0.01125696, 0.00961119, 0.00943441,\n",
       "       0.00126004, 0.01044554, 0.00437813, 0.01033246, 0.01087538,\n",
       "       0.01291434, 0.00013412, 0.01229846, 0.01810545, 0.0009958 ,\n",
       "       0.0226185 , 0.00296616, 0.01933703, 0.02309613, 0.00055392,\n",
       "       0.01070386, 0.01029328, 0.00047874, 0.01112175, 0.00077048,\n",
       "       0.01971891, 0.01034809, 0.01509344, 0.01628585, 0.00569401,\n",
       "       0.00284521, 0.01220359, 0.01146758, 0.01387692, 0.01979073,\n",
       "       0.00016545, 0.01418077, 0.01035029, 0.0185442 , 0.00024257,\n",
       "       0.00189585, 0.00652278, 0.01365009, 0.01242187, 0.00033829,\n",
       "       0.00163483, 0.0074032 , 0.00171506, 0.00089171, 0.00195308,\n",
       "       0.00018159, 0.01242649, 0.00134046, 0.00922115, 0.03498209,\n",
       "       0.00837935, 0.00064384, 0.01873699, 0.00017185, 0.00524938,\n",
       "       0.00846916, 0.00682704, 0.01238231, 0.008954  , 0.00246463,\n",
       "       0.00339232, 0.01658994, 0.0012172 , 0.00833958, 0.01672345,\n",
       "       0.00072701, 0.00069389, 0.00971754])"
      ]
     },
     "execution_count": 7,
     "metadata": {},
     "output_type": "execute_result"
    }
   ],
   "source": [
    "probabilities[0]"
   ]
  }
 ],
 "metadata": {
  "celltoolbar": "Initialization Cell",
  "kernelspec": {
   "display_name": "Python 3 (ipykernel)",
   "language": "python",
   "name": "python3"
  },
  "language_info": {
   "codemirror_mode": {
    "name": "ipython",
    "version": 3
   },
   "file_extension": ".py",
   "mimetype": "text/x-python",
   "name": "python",
   "nbconvert_exporter": "python",
   "pygments_lexer": "ipython3",
   "version": "3.9.0"
  }
 },
 "nbformat": 4,
 "nbformat_minor": 5
}
